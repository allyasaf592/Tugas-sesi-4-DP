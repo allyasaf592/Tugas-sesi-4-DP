{
 "cells": [
  {
   "cell_type": "markdown",
   "metadata": {},
   "source": [
    "<h1>Praktikum Variabel & Tipe Data</h1>\n",
    "\n",
    "<h3>Soal 1</h3>\n",
    "Kiki belanja ke alf$$a M$a$r$t membeli 3 hepitos, 2 silperkuin, telor 2kg, beras 5kg, isi ulang akua galon seharga Rp 13.000. Harga hepitos yaitu Rp 15.000, telor Rp 13.000/kg, silperkuin Rp 21.000 beras kemasan 2.5kg seharga Rp 20.000. Toko tersebut memberikan discount 5%, ketika customer membeli makanan lebih dari 3 jenis. Berapakah total bayar belanjaan dari Kiki?\n"
   ]
  },
  {
   "cell_type": "markdown",
   "metadata": {},
   "source": [
    "<h1>Analyze Here</h1>\n",
    "<P>1. Kiki belanja 3 hepitos, 2 silperkuin, telor 2kg, beras 5kg, isi ulang akua galon.\n",
    "<P>2. hepitos Rp. 15000, silperkuin Rp.21000, telor Rp 13.000/kg, beras kemasan 2.5kg seharga Rp 20.000 dan isi ulang akua    galon Rp 13.000.\n",
    "<P>3. menghitung belanjaan kiki dari point 1 dan point 2\n",
    "<P>4. Menghitung diskon sebesar 5% dari belanjaan kiki\n",
    "<P>5. Membuat total belanja dengan cara belanja kiki dikurangi diskon"
   ]
  },
  {
   "cell_type": "code",
   "execution_count": 5,
   "metadata": {},
   "outputs": [
    {
     "name": "stdout",
     "output_type": "stream",
     "text": [
      "total belanja = 166000\n",
      "total diskon = 8300.0\n",
      "total setelah diskon = 157700.0\n"
     ]
    }
   ],
   "source": [
    "hepitos            = 15000\n",
    "silperkuin         = 21000\n",
    "telor              = 13000\n",
    "beras              = 20000\n",
    "isiulang_akuagalon = 13000\n",
    "\n",
    "belanja = (3*hepitos) + (2*silperkuin) + (2*telor) + (2*beras) + isiulang_akuagalon\n",
    "diskon = belanja * 0.05\n",
    "total_setelah_diskon = belanja-diskon \n",
    "\n",
    "print (\"total belanja =\", belanja)\n",
    "print (\"total diskon =\", diskon)\n",
    "print (\"total setelah diskon =\", total_setelah_diskon)"
   ]
  },
  {
   "cell_type": "markdown",
   "metadata": {},
   "source": [
    "<h3>Soal 2</h3>\n",
    "Roni menabung pada bulan agustus yaitu setiap tanggal ganjil sejumlah Rp 50.000, setiap tanggal genap sejumlah RP 10.000 dan setiap tanggal kelipatan 5 sejumlah Rp 5.000, Berapakah total tabungan Roni diakhir bulan?"
   ]
  },
  {
   "cell_type": "markdown",
   "metadata": {},
   "source": [
    "<h1>Analyze Here</h1>\n",
    "\n",
    "<P>1. Agustus mempunyai 31 hari \n",
    "<P>2. roni menabung dari tanggal 1 \n",
    "<P>3. pada hari ganjil menabung Rp. 50000\n",
    "<P>4. Pada hari genap menabung Rp. 10000\n",
    "<P>5. pada hari kelipatan 5 menabung Rp. 5000\n",
    "<P>6. ganjil ada 16 hari, genap ada 15 hari, dan hari kelipatan 5 ada 6 hari "
   ]
  },
  {
   "cell_type": "code",
   "execution_count": 6,
   "metadata": {},
   "outputs": [
    {
     "name": "stdout",
     "output_type": "stream",
     "text": [
      "total_tabung 800000\n"
     ]
    }
   ],
   "source": [
    "total_hari   = 31\n",
    "total_tabung = 0 \n",
    "\n",
    "tanggal = 1\n",
    "while(tanggal <= total_hari):\n",
    "    if(tanggal % 5 == 0):\n",
    "        total_tabung += 5000\n",
    "    elif(tanggal % 2 != 0):\n",
    "        total_tabung += 50000\n",
    "    else: \n",
    "        total_tabung += 10000\n",
    "        \n",
    "    tanggal += 1\n",
    "    \n",
    "print (\"total_tabung\", total_tabung)\n"
   ]
  },
  {
   "cell_type": "markdown",
   "metadata": {},
   "source": [
    "<h3>Soal 3</h3>\n",
    "Saat hari raya, Deni ingin menukarkan uang sejumlah Rp 5.000.000 ke pecahan 20rb, 10rb, 5rb, 2rb. berapa jumlahnya yang didapatkan Deni jika 20rb maksimal 100, 10rb maksimal 50.Jika :\n",
    "<ol>\n",
    "    <li>3(a)Semua pecahan harus ada</li>\n",
    "    <li>3(b)Hanya pecahan 20rb, 10rb dan 5rb</li>\n",
    "    <li>3(c)Hanya pecahan 20rb, 10rb dan 2rb</li>\n",
    "</ol>"
   ]
  },
  {
   "cell_type": "markdown",
   "metadata": {},
   "source": [
    "<h1>Analyze Here</h1>\n",
    "<P>1. Uang Deni Rp. 5000000\n",
    "<P>2. LIst pecahan : 20rb, 10rb, 5rb, 2rb\n",
    "<P>3. Pecahan 20rb maksimal 100 lembar \n",
    "<P>4. pecahan 10rb maksimal 50 lembar \n",
    "<P>5. Point a: semua pecahan harus ada \n",
    "<P>6. Point b: Hanya pecahan 20rb, 10rb dan 5rb\n",
    "<p>7. Point c: Hanya pecahan 20rb, 10rb dan 2rb"
   ]
  },
  {
   "cell_type": "code",
   "execution_count": 15,
   "metadata": {},
   "outputs": [
    {
     "name": "stdout",
     "output_type": "stream",
     "text": [
      "a. pecahan uang 5000000 untuk point a adalah\n",
      "   1. pecahan 20000 berjumlah 100\n",
      "   2. pecahan 10000 berjumlah 50\n",
      "   3. pecahan 5000 berjumlah 250.0\n",
      "   4. pecahan 2000 berjumlah 625.0\n",
      "b. pecahan uang 5000000 untuk point b adalah\n",
      "   1. pecahan 20000 berjumlah 100\n",
      "   2. pecahan 10000 berjumlah 50\n",
      "   3. pecahan 5000 berjumlah 500.0\n",
      "c. pecahan uang 5000000 untuk point c adalah\n",
      "   1. pecahan 20000 berjumlah 100\n",
      "   2. pecahan 10000 berjumlah 50\n",
      "   3. pecahan 2000 berjumlah 1250.0\n"
     ]
    }
   ],
   "source": [
    "#jumlah uang yang dimiliki deni\n",
    "uang = 5000000\n",
    "\n",
    "#list pecahan uang \n",
    "pecahan = [20000, 10000, 5000, 2000]\n",
    "\n",
    "#maksimal pecahan 20rb\n",
    "maksimal_pecahan20rb = 100\n",
    "\n",
    "#maksimal pecahan 10rb\n",
    "maksimal_pecahan10rb = 50\n",
    "\n",
    "#sisa uang setelah dikurangi 100 pecahan 20rb dan 50 pecahan 10rb\n",
    "sisa_uang = uang - (pecahan[0]*100+pecahan[1]*50)\n",
    "\n",
    "#output point a\n",
    "print(f\"a. pecahan uang {uang} untuk point a adalah\")\n",
    "print(f\"   1. pecahan {pecahan[0]} berjumlah {maksimal_pecahan20rb}\")\n",
    "print(f\"   2. pecahan {pecahan[1]} berjumlah {maksimal_pecahan10rb}\")\n",
    "print(f\"   3. pecahan {pecahan[2]} berjumlah {(sisa_uang/2)/pecahan[2]}\")\n",
    "print(f\"   4. pecahan {pecahan[3]} berjumlah {(sisa_uang/2)/pecahan[3]}\")\n",
    "      \n",
    "#output point b      \n",
    "print(f\"b. pecahan uang {uang} untuk point b adalah\")\n",
    "print(f\"   1. pecahan {pecahan[0]} berjumlah {maksimal_pecahan20rb}\")\n",
    "print(f\"   2. pecahan {pecahan[1]} berjumlah {maksimal_pecahan10rb}\")\n",
    "print(f\"   3. pecahan {pecahan[2]} berjumlah {sisa_uang/pecahan[2]}\")\n",
    "      \n",
    "#output point c\n",
    "print(f\"c. pecahan uang {uang} untuk point c adalah\")\n",
    "print(f\"   1. pecahan {pecahan[0]} berjumlah {maksimal_pecahan20rb}\")\n",
    "print(f\"   2. pecahan {pecahan[1]} berjumlah {maksimal_pecahan10rb}\")\n",
    "print(f\"   3. pecahan {pecahan[3]} berjumlah {sisa_uang/pecahan[3]}\")"
   ]
  },
  {
   "cell_type": "markdown",
   "metadata": {},
   "source": [
    "<h3>Soal 4</h3>\n",
    "Berapakah hasil dari (10/23-6+4-(20//3%2)) ?\n",
    "Lakukan analisa perhitungan dari hasil tersebut!\n",
    "Berdasarkan hasil tersebut urutkan operator yang dikerjakan!"
   ]
  },
  {
   "cell_type": "markdown",
   "metadata": {},
   "source": [
    "<h1>Analyze Here</h1>\n",
    "<P>1. hitung dan urutkan operator dari (10/23-6+4-(20//3%2))\n",
    "<P>2. urutannya 10/23 lalu hasilnya dijumlahkan dengan -6+4\n",
    "<P>3. operasikan 20//3%2\n",
    "<P>4. hasil point kedua dijumlahkan dengan hasil point ketiga\n"
   ]
  },
  {
   "cell_type": "code",
   "execution_count": 16,
   "metadata": {},
   "outputs": [
    {
     "name": "stdout",
     "output_type": "stream",
     "text": [
      "hasil dari(10/23-6+4-(20//3%2)) =  -1.5652173913043477\n",
      "0.43478260869565216\n",
      "-1.5652173913043477\n",
      "6\n",
      "0\n",
      "-1.5652173913043477\n",
      "-1.5652173913043477\n"
     ]
    }
   ],
   "source": [
    "hasil = (10/23-6+4-(20//3%2))\n",
    "print(\"hasil dari(10/23-6+4-(20//3%2)) = \", hasil)\n",
    "\n",
    "#langkah pertama adalah pembagaian 10/23\n",
    "langkah1 = 10/23\n",
    "print(langkah1)\n",
    "\n",
    "#langkah kedua adalah hasil dari langkah pertama dikurangi 6 lalu ditambah 4\n",
    "langkah2 = langkah1-6+4\n",
    "print(langkah2)\n",
    "\n",
    "#langkah ketiga adalah operator pembagian bulat 22//3 \n",
    "langkah3 = 20//3\n",
    "print(langkah3)\n",
    "\n",
    "#langkah keempat adalah hasil dari langkah ketiga di sisa bagi 2\n",
    "langkah4 = langkah3%2\n",
    "print(langkah4)\n",
    "\n",
    "#langkah terakhir tinggal menjumlah hasil langkah kedua dikurangi langkah keempat\n",
    "langkah5 = langkah2 - langkah4\n",
    "print(langkah5)\n",
    "\n",
    "#pembuktian menggunakan rumus langsung\n",
    "print(hasil)"
   ]
  },
  {
   "cell_type": "markdown",
   "metadata": {},
   "source": [
    "<h3>Soal 5</h3>\n",
    "Jika terdapat string yaitu \"UFLOPYXTKJACSWRBGQZVDMEHIN\", maka susunlah nama kalian masing-masing dari data tersebut, berdasarkan index dari masing-masing huruf yang ada pada string tersebut!\n"
   ]
  },
  {
   "cell_type": "markdown",
   "metadata": {},
   "source": [
    "<h1>Analyze Here</h1>\n",
    "<p>1. terdapat string \"UFLOPYXTKJACSWRBGQZVDMEHIN\" </p>\n",
    "<P>2. menyusun nama dari string acak sehingga tersusun nama dengan cara membuat variabel dengan string acak </P>\n",
    "<P>3. index dimulai dari 0 berarti jika dalam code terdapat index[0] mka yang muncul adalah U </P>"
   ]
  },
  {
   "cell_type": "code",
   "execution_count": 4,
   "metadata": {},
   "outputs": [
    {
     "name": "stdout",
     "output_type": "stream",
     "text": [
      "ALLYA SAFFIRA\n"
     ]
    }
   ],
   "source": [
    "huruf = \"UFLOPYXTKJACSWRBGQZVDMEHIN\"\n",
    "print(huruf[10]+huruf[2]+huruf[2]+huruf[5]+huruf[10],huruf[12]+huruf[10]+huruf[1]+huruf[1]+huruf[24]+huruf[14]+huruf[10])\n"
   ]
  }
 ],
 "metadata": {
  "kernelspec": {
   "display_name": "Python 3 (ipykernel)",
   "language": "python",
   "name": "python3"
  },
  "language_info": {
   "codemirror_mode": {
    "name": "ipython",
    "version": 3
   },
   "file_extension": ".py",
   "mimetype": "text/x-python",
   "name": "python",
   "nbconvert_exporter": "python",
   "pygments_lexer": "ipython3",
   "version": "3.9.12"
  }
 },
 "nbformat": 4,
 "nbformat_minor": 4
}
